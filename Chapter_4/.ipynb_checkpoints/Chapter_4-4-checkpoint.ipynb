{
 "cells": [
  {
   "cell_type": "markdown",
   "metadata": {},
   "source": [
    "# Chapter4： 実践的なアプリケーションを作ってみよう"
   ]
  },
  {
   "cell_type": "markdown",
   "metadata": {},
   "source": [
    "### 4.4　ファイル整理ソフトを作ってみよう②\n",
    "### 4.4.1　GUIの作成"
   ]
  },
  {
   "cell_type": "code",
   "execution_count": 1,
   "metadata": {},
   "outputs": [],
   "source": [
    "# リスト4.4.1： ステータスバーの設置\n",
    "# tkinterのインポート\n",
    "import tkinter as tk\n",
    "\n",
    "# ウインドウの作成\n",
    "root = tk.Tk()\n",
    "\n",
    "# ステータスバー設置 \n",
    "statusbar = tk.Label(root, text = \" Here we go!!\",\n",
    "                     bd = 1, relief = tk.SUNKEN, anchor = tk.W)\n",
    "statusbar.pack(side = tk.BOTTOM, fill = tk.X)\n",
    "\n",
    "# ウインドウ状態の維持\n",
    "root.mainloop()"
   ]
  },
  {
   "cell_type": "code",
   "execution_count": 2,
   "metadata": {},
   "outputs": [],
   "source": [
    "# 図4-19.ラベルウイジットの外観比較(左図)\n",
    "# tkinterのインポート\n",
    "import tkinter as tk\n",
    "\n",
    "# ウインドウの作成\n",
    "root = tk.Tk()\n",
    "\n",
    "# ステータスバー設置 \n",
    "statusbar = tk.Label(root, text = \" Here we go!!\")\n",
    "statusbar.pack(side = tk.BOTTOM, fill = tk.X)\n",
    "\n",
    "# ウインドウ状態の維持\n",
    "root.mainloop()"
   ]
  },
  {
   "cell_type": "code",
   "execution_count": 3,
   "metadata": {},
   "outputs": [],
   "source": [
    "# リスト4.4.3： [RUN]ボタンの設置\n",
    "# tkinterのインポート\n",
    "import tkinter as tk\n",
    "\n",
    "# ウインドウの作成\n",
    "root = tk.Tk()\n",
    "\n",
    "# ステータスバー設置 \n",
    "statusbar = tk.Label(root, text = \" Here we go!!\",\n",
    "                     bd = 1, relief = tk.SUNKEN, anchor = tk.W)\n",
    "statusbar.pack(side = tk.BOTTOM, fill = tk.X)\n",
    "\n",
    "# 実行ボタン\n",
    "run_button = tk.Button(root, text = \"RUN\")\n",
    "run_button.pack(pady = 10, ipadx = 20, side = tk.BOTTOM)\n",
    "\n",
    "# ウインドウ状態の維持\n",
    "root.mainloop()"
   ]
  },
  {
   "cell_type": "code",
   "execution_count": 5,
   "metadata": {},
   "outputs": [],
   "source": [
    "# 図4-20.ipadx=20とipadx=40の比較\n",
    "# tkinterのインポート\n",
    "import tkinter as tk\n",
    "\n",
    "# ウインドウの作成\n",
    "root = tk.Tk()\n",
    "\n",
    "# ステータスバー設置 \n",
    "statusbar = tk.Label(root, text = \" Here we go!!\",\n",
    "                     bd = 1, relief = tk.SUNKEN, anchor = tk.W)\n",
    "statusbar.pack(side = tk.BOTTOM, fill = tk.X)\n",
    "\n",
    "# 実行ボタン\n",
    "run_button = tk.Button(root, text = \"RUN\")\n",
    "run_button.pack(pady = 10, ipadx = 40, side = tk.BOTTOM)\n",
    "\n",
    "# ウインドウ状態の維持\n",
    "root.mainloop()"
   ]
  },
  {
   "cell_type": "code",
   "execution_count": 6,
   "metadata": {},
   "outputs": [],
   "source": [
    "# 図4-21.誤ったウイジットの配置\n",
    "# tkinterのインポート\n",
    "import tkinter as tk\n",
    "\n",
    "# ウインドウの作成\n",
    "root = tk.Tk()\n",
    "\n",
    "# 実行ボタン\n",
    "run_button = tk.Button(root, text = \"RUN\")\n",
    "run_button.pack(pady = 10, ipadx = 40, side = tk.BOTTOM)\n",
    "\n",
    "# ステータスバー設置 \n",
    "statusbar = tk.Label(root, text = \" Here we go!!\",\n",
    "                     bd = 1, relief = tk.SUNKEN, anchor = tk.W)\n",
    "statusbar.pack(side = tk.BOTTOM, fill = tk.X)\n",
    "\n",
    "# ウインドウ状態の維持\n",
    "root.mainloop()"
   ]
  },
  {
   "cell_type": "code",
   "execution_count": 7,
   "metadata": {},
   "outputs": [],
   "source": [
    "# リスト4.4.4： ラベルフレーム, コンボボックス, 参照ボタンの設置\n",
    "# tkinterのインポート\n",
    "import tkinter as tk\n",
    "from tkinter import ttk\n",
    "\n",
    "# ウインドウの作成\n",
    "root = tk.Tk()\n",
    "\n",
    "# ステータスバー設置 \n",
    "statusbar = tk.Label(root, text = \" Here we go!!\",\n",
    "                     bd = 1, relief = tk.SUNKEN, anchor = tk.W)\n",
    "statusbar.pack(side = tk.BOTTOM, fill = tk.X)\n",
    "\n",
    "# 実行ボタン\n",
    "run_button = tk.Button(root, text = \"RUN\")\n",
    "run_button.pack(pady = 10, ipadx = 20, side = tk.BOTTOM)\n",
    "\n",
    "# ラベルフレーム\n",
    "frame = ttk.Labelframe(root, text = \"Select Extension\", padding = 10)\n",
    "frame.pack(padx = 20, pady = 5, side = tk.BOTTOM)\n",
    "\n",
    "# コンボボックス\n",
    "extensions = [\".docx\", \".py\", \".txt\", \".xlsx\", \".zip\"]\n",
    "cb = ttk.Combobox(frame, values = extensions)\n",
    "cb.pack(side = tk.LEFT)\n",
    "\n",
    "# 参照ボタン\n",
    "browse_button = tk.Button(frame, text = \"Browse...\")\n",
    "browse_button.pack(padx = 10, side = tk.LEFT)\n",
    "\n",
    "# ウインドウ状態の維持\n",
    "root.mainloop()"
   ]
  },
  {
   "cell_type": "code",
   "execution_count": 10,
   "metadata": {},
   "outputs": [],
   "source": [
    "# リスト4.4.5： ttkのインポート\n",
    "from tkinter import ttk"
   ]
  },
  {
   "cell_type": "code",
   "execution_count": 9,
   "metadata": {},
   "outputs": [],
   "source": [
    "# リスト4.4.7： 完成したコード (ファイル整理ソフトのGUI) \n",
    "# インポート\n",
    "import tkinter as tk\n",
    "from tkinter import ttk\n",
    "\n",
    "### GUI ###\n",
    "# ウインドウの作成\n",
    "root = tk.Tk()\n",
    "\n",
    "# ステータスバー設置 \n",
    "statusbar = tk.Label(root, text =  \" Here we go!!\",\n",
    "                     bd = 1, relief = tk.SUNKEN, anchor = tk.W)\n",
    "statusbar.pack(side = tk.BOTTOM, fill = tk.X)\n",
    "# 実行ボタン\n",
    "run_button = tk.Button(root, text = \"RUN\")\n",
    "run_button.pack(pady = 10, ipadx = 20, side = tk.BOTTOM)\n",
    "# ラベルフレーム\n",
    "frame = ttk.Labelframe(root, text = \"Select Extension\", padding = 10)\n",
    "frame.pack(padx = 20, pady = 5, side = tk.BOTTOM)\n",
    "# コンボボックス\n",
    "extensions = [\".docx\", \".py\", \".txt\", \".xlsx\", \".zip\"]\n",
    "cb = ttk.Combobox(frame, values = extensions)\n",
    "cb.pack(side = tk.LEFT)\n",
    "# 参照ボタン\n",
    "browse_button = tk.Button(frame, text = \"Browse...\")\n",
    "browse_button.pack(padx = 10, side = tk.LEFT)\n",
    "\n",
    "# ウインドウ状態の維持\n",
    "root.mainloop()"
   ]
  },
  {
   "cell_type": "code",
   "execution_count": 11,
   "metadata": {},
   "outputs": [],
   "source": [
    "# リスト4.4.8： コンボボックスのオプション\n",
    "# インポート\n",
    "import tkinter as tk\n",
    "from tkinter import ttk\n",
    "\n",
    "### GUI ###\n",
    "# ウインドウの作成\n",
    "root = tk.Tk()\n",
    "\n",
    "# ステータスバー設置 \n",
    "statusbar = tk.Label(root, text =  \" Here we go!!\",\n",
    "                     bd = 1, relief = tk.SUNKEN, anchor = tk.W)\n",
    "statusbar.pack(side = tk.BOTTOM, fill = tk.X)\n",
    "# 実行ボタン\n",
    "run_button = tk.Button(root, text = \"RUN\")\n",
    "run_button.pack(pady = 10, ipadx = 20, side = tk.BOTTOM)\n",
    "# ラベルフレーム\n",
    "frame = ttk.Labelframe(root, text = \"Select Extension\", padding = 10)\n",
    "frame.pack(padx = 20, pady = 5, side = tk.BOTTOM)\n",
    "# コンボボックス\n",
    "extensions = [\".docx\", \".py\", \".txt\", \".xlsx\", \".zip\"]\n",
    "cb = ttk.Combobox(frame, values = extensions, state = \"readonly\")\n",
    "cb.pack(side = tk.LEFT)\n",
    "cb.current(0)\n",
    "# 参照ボタン\n",
    "browse_button = tk.Button(frame, text = \"Browse...\")\n",
    "browse_button.pack(padx = 10, side = tk.LEFT)\n",
    "\n",
    "# ウインドウ状態の維持\n",
    "root.mainloop()"
   ]
  },
  {
   "cell_type": "markdown",
   "metadata": {},
   "source": [
    "### 4.4.2　関数の準備"
   ]
  },
  {
   "cell_type": "code",
   "execution_count": 12,
   "metadata": {},
   "outputs": [],
   "source": [
    "# リスト4.4.9： filedialogのインポート\n",
    "from tkinter import filedialog"
   ]
  },
  {
   "cell_type": "code",
   "execution_count": 13,
   "metadata": {},
   "outputs": [
    {
     "name": "stdout",
     "output_type": "stream",
     "text": [
      "/Users/yuutaizumi/Documents/python-app-book\n"
     ]
    }
   ],
   "source": [
    "# リスト4.4.10： filedialogのテストコード\n",
    "# インポート\n",
    "import tkinter as tk\n",
    "from tkinter import filedialog\n",
    "\n",
    "# ウインドウの作成\n",
    "root = tk.Tk()\n",
    "\n",
    "# フォルダの選択\n",
    "dir_path = filedialog.askdirectory()\n",
    "# フォルダパスの出力\n",
    "print(dir_path)\n",
    "\n",
    "# ウインドウ状態の維持\n",
    "root.mainloop()"
   ]
  },
  {
   "cell_type": "code",
   "execution_count": 14,
   "metadata": {},
   "outputs": [],
   "source": [
    "# リスト4.4.11： browse_func関数\n",
    "def browse_func():\n",
    "    # 整理するフォルダのパス\n",
    "    dir_path = filedialog.askdirectory()"
   ]
  },
  {
   "cell_type": "code",
   "execution_count": 15,
   "metadata": {},
   "outputs": [],
   "source": [
    "# リスト4.4.12： run_func関数\n",
    "def run_func():\n",
    "    # ファイルを移動するフォルダのパス\n",
    "    save_path = filedialog.askdirectory()\n",
    "    # 拡張子の判別とファイル移動\n",
    "    for file in os.listdir(dir_path):\n",
    "        if file.endswith(cb.get()):\n",
    "            path = dir_path + \"/\" + file\n",
    "            shutil.move(path, save_path)"
   ]
  },
  {
   "cell_type": "markdown",
   "metadata": {},
   "source": [
    "### 4.4.3　各ウイジットへ関数の関連付け"
   ]
  },
  {
   "cell_type": "code",
   "execution_count": 16,
   "metadata": {},
   "outputs": [],
   "source": [
    "# リスト4.4.13： browse_func関数 (グローバル変数の宣言)\n",
    "def browse_func():\n",
    "    # グローバル変数の宣言\n",
    "    global dir_path\n",
    "    # 整理するフォルダのパス\n",
    "    dir_path = filedialog.askdirectory()"
   ]
  },
  {
   "cell_type": "code",
   "execution_count": 17,
   "metadata": {},
   "outputs": [],
   "source": [
    "# リスト4.4.14： run_func関数 (例外処理)\n",
    "def run_func():\n",
    "    try:\n",
    "        # ファイルを移動するフォルダのパス\n",
    "        Save_path = filedialog.askdirectory()\n",
    "        # 拡張子の判別ファイル移動\n",
    "        for file in os.listdir(dir_path):\n",
    "            if file.endswith(cb.get()):\n",
    "                path = dir_path + \"/\" + file\n",
    "                shutil.move(path, save_path)\n",
    "    except:\n",
    "        pass"
   ]
  },
  {
   "cell_type": "code",
   "execution_count": 18,
   "metadata": {},
   "outputs": [],
   "source": [
    "# リスト4.4.16： run_func関数 (ステータスバーの更新)\n",
    "def run_func():\n",
    "    try:\n",
    "        # ファイルを移動するフォルダのパス\n",
    "        save_path = filedialog.askdirectory()\n",
    "        # 拡張子の判別とファイル移動\n",
    "        for file in os.listdir(dir_path):\n",
    "            if file.endswith(cb.get()):\n",
    "                path = dir_path + \"/\" + file\n",
    "                shutil.move(path, save_path)\n",
    "        # ステータスの更新\n",
    "        statusbar[\"text\"] = \" Done!!\"\n",
    "    except:\n",
    "        # ステータスの更新\n",
    "        statusbar[\"text\"] = \" Error!!\""
   ]
  },
  {
   "cell_type": "code",
   "execution_count": 19,
   "metadata": {},
   "outputs": [],
   "source": [
    "# リスト4.4.17： browse_func関数 (ステータスバーの更新)\n",
    "def browse_func():\n",
    "    # グローバル変数の宣言\n",
    "    global dir_Path\n",
    "    # ステータスの更新\n",
    "    statusbar[\"text\"] = \" Here we go!!\"\n",
    "    # 整理するフォルダのパス\n",
    "    dir_path = filedialog.askdirectory()"
   ]
  },
  {
   "cell_type": "code",
   "execution_count": null,
   "metadata": {},
   "outputs": [
    {
     "name": "stdout",
     "output_type": "stream",
     "text": [
      "\n",
      ".txt\n",
      ".zip\n",
      "aaa\n"
     ]
    }
   ],
   "source": [
    "# リスト4.4.18： 完成したコード (ファイル整理ソフト)\n",
    "# インポート\n",
    "import tkinter as tk\n",
    "from tkinter import ttk\n",
    "from tkinter import filedialog\n",
    "import os\n",
    "import shutil\n",
    "\n",
    "### 関数 ###\n",
    "# Browse...\n",
    "def browse_func():\n",
    "    # グローバル変数の宣言\n",
    "    global dir_path\n",
    "    # ステータスの更新\n",
    "    statusbar[\"text\"] = \" Here we go!!\"\n",
    "    # 整理するフォルダのパス\n",
    "    dir_path = filedialog.askdirectory()\n",
    "# RUN\n",
    "def run_func():\n",
    "    try:\n",
    "        # ファイルを移動するフォルダのパス\n",
    "        save_path = filedialog.askdirectory()\n",
    "        # 拡張子の判別とファイル移動\n",
    "        for file in os.listdir(dir_path):\n",
    "            if file.endswith(cb.get()):\n",
    "                path = dir_path + \"/\" + file\n",
    "                shutil.move(path, save_path)\n",
    "        # ステータスの更新\n",
    "        statusbar[\"text\"] = \" Done!!\"\n",
    "    except:\n",
    "        # ステータスの更新\n",
    "        statusbar[\"text\"] = \" Error!!\"\n",
    "                \n",
    "### GUI  ###\n",
    "# ウインドウの作成\n",
    "root = tk.Tk()\n",
    "# ステータスバー設置 \n",
    "statusbar = tk.Label(root, text =  \" Here we go!!\",\n",
    "                     bd = 1, relief = tk.SUNKEN, anchor = tk.W)\n",
    "statusbar.pack(side = tk.BOTTOM, fill = tk.X)\n",
    "# 実行ボタン\n",
    "run_button = tk.Button(root, text = \"RUN\", command = run_func)\n",
    "run_button.pack(pady = 10, ipadx = 20, side = tk.BOTTOM)\n",
    "# ラベルフレーム\n",
    "frame = ttk.Labelframe(root, text = \"Select Extension\", padding = 10)\n",
    "frame.pack(padx = 20, pady = 5, side = tk.BOTTOM)\n",
    "# コンボボックス\n",
    "extensions = [\".docx\", \".py\", \".txt\", \".xlsx\", \".zip\"]\n",
    "cb = ttk.Combobox(frame, values = extensions)\n",
    "cb.pack(side = tk.LEFT)\n",
    "# 参照ボタン\n",
    "browse_button = tk.Button(frame, text = \"Browse...\",\n",
    "                          command = browse_func)\n",
    "browse_button.pack(padx = 10, side = tk.LEFT)\n",
    "\n",
    "# cb.get()\n",
    "browse_button = tk.Button(frame, text = \"cb.get()\",\n",
    "                          command = lambda: print(cb.get()))\n",
    "browse_button.pack(padx = 10, side = tk.LEFT)\n",
    "\n",
    "# ウインドウ状態の維持\n",
    "root.mainloop()"
   ]
  },
  {
   "cell_type": "code",
   "execution_count": 2,
   "metadata": {},
   "outputs": [
    {
     "ename": "NameError",
     "evalue": "name 'dir_path' is not defined",
     "output_type": "error",
     "traceback": [
      "\u001b[0;31m---------------------------------------------------------------------------\u001b[0m",
      "\u001b[0;31mNameError\u001b[0m                                 Traceback (most recent call last)",
      "\u001b[0;32m/var/folders/dj/693d7ffn7xzgxjsh4jxx0v840000gn/T/ipykernel_4460/3511779872.py\u001b[0m in \u001b[0;36m<module>\u001b[0;34m\u001b[0m\n\u001b[0;32m----> 1\u001b[0;31m \u001b[0mdir_path\u001b[0m\u001b[0;34m\u001b[0m\u001b[0;34m\u001b[0m\u001b[0m\n\u001b[0m",
      "\u001b[0;31mNameError\u001b[0m: name 'dir_path' is not defined"
     ]
    }
   ],
   "source": [
    "dir_path"
   ]
  },
  {
   "cell_type": "code",
   "execution_count": null,
   "metadata": {},
   "outputs": [],
   "source": []
  }
 ],
 "metadata": {
  "kernelspec": {
   "display_name": "Python 3 (ipykernel)",
   "language": "python",
   "name": "python3"
  },
  "language_info": {
   "codemirror_mode": {
    "name": "ipython",
    "version": 3
   },
   "file_extension": ".py",
   "mimetype": "text/x-python",
   "name": "python",
   "nbconvert_exporter": "python",
   "pygments_lexer": "ipython3",
   "version": "3.8.2"
  }
 },
 "nbformat": 4,
 "nbformat_minor": 4
}
